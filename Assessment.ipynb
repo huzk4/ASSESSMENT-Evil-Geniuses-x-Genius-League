{
 "cells": [
  {
   "cell_type": "code",
   "execution_count": 15,
   "metadata": {},
   "outputs": [],
   "source": [
    "import pandas as pd\n",
    "import numpy as np\n",
    "import matplotlib.pyplot as plt\n",
    "from pandas_profiling import ProfileReport\n",
    "import seaborn as sns\n",
    "import matplotlib.pyplot as plt"
   ]
  },
  {
   "attachments": {},
   "cell_type": "markdown",
   "metadata": {},
   "source": [
    "## Data and EDA"
   ]
  },
  {
   "cell_type": "code",
   "execution_count": 221,
   "metadata": {},
   "outputs": [],
   "source": [
    "data = pd.read_csv('starcraft_player_data.csv')"
   ]
  },
  {
   "cell_type": "code",
   "execution_count": 4,
   "metadata": {},
   "outputs": [
    {
     "data": {
      "text/html": [
       "<div>\n",
       "<style scoped>\n",
       "    .dataframe tbody tr th:only-of-type {\n",
       "        vertical-align: middle;\n",
       "    }\n",
       "\n",
       "    .dataframe tbody tr th {\n",
       "        vertical-align: top;\n",
       "    }\n",
       "\n",
       "    .dataframe thead th {\n",
       "        text-align: right;\n",
       "    }\n",
       "</style>\n",
       "<table border=\"1\" class=\"dataframe\">\n",
       "  <thead>\n",
       "    <tr style=\"text-align: right;\">\n",
       "      <th></th>\n",
       "      <th>GameID</th>\n",
       "      <th>LeagueIndex</th>\n",
       "      <th>Age</th>\n",
       "      <th>HoursPerWeek</th>\n",
       "      <th>TotalHours</th>\n",
       "      <th>APM</th>\n",
       "      <th>SelectByHotkeys</th>\n",
       "      <th>AssignToHotkeys</th>\n",
       "      <th>UniqueHotkeys</th>\n",
       "      <th>MinimapAttacks</th>\n",
       "      <th>MinimapRightClicks</th>\n",
       "      <th>NumberOfPACs</th>\n",
       "      <th>GapBetweenPACs</th>\n",
       "      <th>ActionLatency</th>\n",
       "      <th>ActionsInPAC</th>\n",
       "      <th>TotalMapExplored</th>\n",
       "      <th>WorkersMade</th>\n",
       "      <th>UniqueUnitsMade</th>\n",
       "      <th>ComplexUnitsMade</th>\n",
       "      <th>ComplexAbilitiesUsed</th>\n",
       "    </tr>\n",
       "  </thead>\n",
       "  <tbody>\n",
       "    <tr>\n",
       "      <th>0</th>\n",
       "      <td>52</td>\n",
       "      <td>5</td>\n",
       "      <td>27</td>\n",
       "      <td>10</td>\n",
       "      <td>3000</td>\n",
       "      <td>143.7180</td>\n",
       "      <td>0.003515</td>\n",
       "      <td>0.000220</td>\n",
       "      <td>7</td>\n",
       "      <td>0.000110</td>\n",
       "      <td>0.000392</td>\n",
       "      <td>0.004849</td>\n",
       "      <td>32.6677</td>\n",
       "      <td>40.8673</td>\n",
       "      <td>4.7508</td>\n",
       "      <td>28</td>\n",
       "      <td>0.001397</td>\n",
       "      <td>6</td>\n",
       "      <td>0.000000</td>\n",
       "      <td>0.000000</td>\n",
       "    </tr>\n",
       "    <tr>\n",
       "      <th>1</th>\n",
       "      <td>55</td>\n",
       "      <td>5</td>\n",
       "      <td>23</td>\n",
       "      <td>10</td>\n",
       "      <td>5000</td>\n",
       "      <td>129.2322</td>\n",
       "      <td>0.003304</td>\n",
       "      <td>0.000259</td>\n",
       "      <td>4</td>\n",
       "      <td>0.000294</td>\n",
       "      <td>0.000432</td>\n",
       "      <td>0.004307</td>\n",
       "      <td>32.9194</td>\n",
       "      <td>42.3454</td>\n",
       "      <td>4.8434</td>\n",
       "      <td>22</td>\n",
       "      <td>0.001193</td>\n",
       "      <td>5</td>\n",
       "      <td>0.000000</td>\n",
       "      <td>0.000208</td>\n",
       "    </tr>\n",
       "    <tr>\n",
       "      <th>2</th>\n",
       "      <td>56</td>\n",
       "      <td>4</td>\n",
       "      <td>30</td>\n",
       "      <td>10</td>\n",
       "      <td>200</td>\n",
       "      <td>69.9612</td>\n",
       "      <td>0.001101</td>\n",
       "      <td>0.000336</td>\n",
       "      <td>4</td>\n",
       "      <td>0.000294</td>\n",
       "      <td>0.000461</td>\n",
       "      <td>0.002926</td>\n",
       "      <td>44.6475</td>\n",
       "      <td>75.3548</td>\n",
       "      <td>4.0430</td>\n",
       "      <td>22</td>\n",
       "      <td>0.000745</td>\n",
       "      <td>6</td>\n",
       "      <td>0.000000</td>\n",
       "      <td>0.000189</td>\n",
       "    </tr>\n",
       "    <tr>\n",
       "      <th>3</th>\n",
       "      <td>57</td>\n",
       "      <td>3</td>\n",
       "      <td>19</td>\n",
       "      <td>20</td>\n",
       "      <td>400</td>\n",
       "      <td>107.6016</td>\n",
       "      <td>0.001034</td>\n",
       "      <td>0.000213</td>\n",
       "      <td>1</td>\n",
       "      <td>0.000053</td>\n",
       "      <td>0.000543</td>\n",
       "      <td>0.003783</td>\n",
       "      <td>29.2203</td>\n",
       "      <td>53.7352</td>\n",
       "      <td>4.9155</td>\n",
       "      <td>19</td>\n",
       "      <td>0.000426</td>\n",
       "      <td>7</td>\n",
       "      <td>0.000000</td>\n",
       "      <td>0.000384</td>\n",
       "    </tr>\n",
       "    <tr>\n",
       "      <th>4</th>\n",
       "      <td>58</td>\n",
       "      <td>3</td>\n",
       "      <td>32</td>\n",
       "      <td>10</td>\n",
       "      <td>500</td>\n",
       "      <td>122.8908</td>\n",
       "      <td>0.001136</td>\n",
       "      <td>0.000327</td>\n",
       "      <td>2</td>\n",
       "      <td>0.000000</td>\n",
       "      <td>0.001329</td>\n",
       "      <td>0.002368</td>\n",
       "      <td>22.6885</td>\n",
       "      <td>62.0813</td>\n",
       "      <td>9.3740</td>\n",
       "      <td>15</td>\n",
       "      <td>0.001174</td>\n",
       "      <td>4</td>\n",
       "      <td>0.000000</td>\n",
       "      <td>0.000019</td>\n",
       "    </tr>\n",
       "    <tr>\n",
       "      <th>5</th>\n",
       "      <td>60</td>\n",
       "      <td>2</td>\n",
       "      <td>27</td>\n",
       "      <td>6</td>\n",
       "      <td>70</td>\n",
       "      <td>44.4570</td>\n",
       "      <td>0.000978</td>\n",
       "      <td>0.000255</td>\n",
       "      <td>2</td>\n",
       "      <td>0.000000</td>\n",
       "      <td>0.000000</td>\n",
       "      <td>0.002425</td>\n",
       "      <td>76.4405</td>\n",
       "      <td>98.7719</td>\n",
       "      <td>3.0965</td>\n",
       "      <td>16</td>\n",
       "      <td>0.000372</td>\n",
       "      <td>6</td>\n",
       "      <td>0.000000</td>\n",
       "      <td>0.000000</td>\n",
       "    </tr>\n",
       "    <tr>\n",
       "      <th>6</th>\n",
       "      <td>61</td>\n",
       "      <td>1</td>\n",
       "      <td>21</td>\n",
       "      <td>8</td>\n",
       "      <td>240</td>\n",
       "      <td>46.9962</td>\n",
       "      <td>0.000820</td>\n",
       "      <td>0.000169</td>\n",
       "      <td>6</td>\n",
       "      <td>0.000000</td>\n",
       "      <td>0.000045</td>\n",
       "      <td>0.001988</td>\n",
       "      <td>94.0227</td>\n",
       "      <td>90.5311</td>\n",
       "      <td>4.1017</td>\n",
       "      <td>15</td>\n",
       "      <td>0.000573</td>\n",
       "      <td>5</td>\n",
       "      <td>0.000000</td>\n",
       "      <td>0.000000</td>\n",
       "    </tr>\n",
       "    <tr>\n",
       "      <th>7</th>\n",
       "      <td>72</td>\n",
       "      <td>7</td>\n",
       "      <td>17</td>\n",
       "      <td>42</td>\n",
       "      <td>10000</td>\n",
       "      <td>212.6022</td>\n",
       "      <td>0.009040</td>\n",
       "      <td>0.000676</td>\n",
       "      <td>6</td>\n",
       "      <td>0.001164</td>\n",
       "      <td>0.001253</td>\n",
       "      <td>0.004952</td>\n",
       "      <td>24.6117</td>\n",
       "      <td>41.7671</td>\n",
       "      <td>6.6104</td>\n",
       "      <td>45</td>\n",
       "      <td>0.002277</td>\n",
       "      <td>9</td>\n",
       "      <td>0.000129</td>\n",
       "      <td>0.000249</td>\n",
       "    </tr>\n",
       "    <tr>\n",
       "      <th>8</th>\n",
       "      <td>77</td>\n",
       "      <td>4</td>\n",
       "      <td>20</td>\n",
       "      <td>14</td>\n",
       "      <td>2708</td>\n",
       "      <td>117.4884</td>\n",
       "      <td>0.002944</td>\n",
       "      <td>0.000527</td>\n",
       "      <td>2</td>\n",
       "      <td>0.000019</td>\n",
       "      <td>0.000414</td>\n",
       "      <td>0.005399</td>\n",
       "      <td>52.0140</td>\n",
       "      <td>46.4321</td>\n",
       "      <td>3.3746</td>\n",
       "      <td>29</td>\n",
       "      <td>0.001035</td>\n",
       "      <td>7</td>\n",
       "      <td>0.000273</td>\n",
       "      <td>0.000470</td>\n",
       "    </tr>\n",
       "    <tr>\n",
       "      <th>9</th>\n",
       "      <td>81</td>\n",
       "      <td>4</td>\n",
       "      <td>18</td>\n",
       "      <td>24</td>\n",
       "      <td>800</td>\n",
       "      <td>155.9856</td>\n",
       "      <td>0.005054</td>\n",
       "      <td>0.000524</td>\n",
       "      <td>8</td>\n",
       "      <td>0.000025</td>\n",
       "      <td>0.000399</td>\n",
       "      <td>0.003569</td>\n",
       "      <td>24.4632</td>\n",
       "      <td>52.1538</td>\n",
       "      <td>6.5664</td>\n",
       "      <td>27</td>\n",
       "      <td>0.001310</td>\n",
       "      <td>6</td>\n",
       "      <td>0.000000</td>\n",
       "      <td>0.000000</td>\n",
       "    </tr>\n",
       "  </tbody>\n",
       "</table>\n",
       "</div>"
      ],
      "text/plain": [
       "   GameID  LeagueIndex Age HoursPerWeek TotalHours       APM  SelectByHotkeys  \\\n",
       "0      52            5  27           10       3000  143.7180         0.003515   \n",
       "1      55            5  23           10       5000  129.2322         0.003304   \n",
       "2      56            4  30           10        200   69.9612         0.001101   \n",
       "3      57            3  19           20        400  107.6016         0.001034   \n",
       "4      58            3  32           10        500  122.8908         0.001136   \n",
       "5      60            2  27            6         70   44.4570         0.000978   \n",
       "6      61            1  21            8        240   46.9962         0.000820   \n",
       "7      72            7  17           42      10000  212.6022         0.009040   \n",
       "8      77            4  20           14       2708  117.4884         0.002944   \n",
       "9      81            4  18           24        800  155.9856         0.005054   \n",
       "\n",
       "   AssignToHotkeys  UniqueHotkeys  MinimapAttacks  MinimapRightClicks  \\\n",
       "0         0.000220              7        0.000110            0.000392   \n",
       "1         0.000259              4        0.000294            0.000432   \n",
       "2         0.000336              4        0.000294            0.000461   \n",
       "3         0.000213              1        0.000053            0.000543   \n",
       "4         0.000327              2        0.000000            0.001329   \n",
       "5         0.000255              2        0.000000            0.000000   \n",
       "6         0.000169              6        0.000000            0.000045   \n",
       "7         0.000676              6        0.001164            0.001253   \n",
       "8         0.000527              2        0.000019            0.000414   \n",
       "9         0.000524              8        0.000025            0.000399   \n",
       "\n",
       "   NumberOfPACs  GapBetweenPACs  ActionLatency  ActionsInPAC  \\\n",
       "0      0.004849         32.6677        40.8673        4.7508   \n",
       "1      0.004307         32.9194        42.3454        4.8434   \n",
       "2      0.002926         44.6475        75.3548        4.0430   \n",
       "3      0.003783         29.2203        53.7352        4.9155   \n",
       "4      0.002368         22.6885        62.0813        9.3740   \n",
       "5      0.002425         76.4405        98.7719        3.0965   \n",
       "6      0.001988         94.0227        90.5311        4.1017   \n",
       "7      0.004952         24.6117        41.7671        6.6104   \n",
       "8      0.005399         52.0140        46.4321        3.3746   \n",
       "9      0.003569         24.4632        52.1538        6.5664   \n",
       "\n",
       "   TotalMapExplored  WorkersMade  UniqueUnitsMade  ComplexUnitsMade  \\\n",
       "0                28     0.001397                6          0.000000   \n",
       "1                22     0.001193                5          0.000000   \n",
       "2                22     0.000745                6          0.000000   \n",
       "3                19     0.000426                7          0.000000   \n",
       "4                15     0.001174                4          0.000000   \n",
       "5                16     0.000372                6          0.000000   \n",
       "6                15     0.000573                5          0.000000   \n",
       "7                45     0.002277                9          0.000129   \n",
       "8                29     0.001035                7          0.000273   \n",
       "9                27     0.001310                6          0.000000   \n",
       "\n",
       "   ComplexAbilitiesUsed  \n",
       "0              0.000000  \n",
       "1              0.000208  \n",
       "2              0.000189  \n",
       "3              0.000384  \n",
       "4              0.000019  \n",
       "5              0.000000  \n",
       "6              0.000000  \n",
       "7              0.000249  \n",
       "8              0.000470  \n",
       "9              0.000000  "
      ]
     },
     "execution_count": 4,
     "metadata": {},
     "output_type": "execute_result"
    }
   ],
   "source": [
    "data.head(10)"
   ]
  },
  {
   "cell_type": "code",
   "execution_count": 4,
   "metadata": {},
   "outputs": [
    {
     "data": {
      "text/plain": [
       "(3395, 20)"
      ]
     },
     "execution_count": 4,
     "metadata": {},
     "output_type": "execute_result"
    }
   ],
   "source": [
    "data.shape"
   ]
  },
  {
   "cell_type": "code",
   "execution_count": 5,
   "metadata": {},
   "outputs": [
    {
     "data": {
      "text/html": [
       "<div>\n",
       "<style scoped>\n",
       "    .dataframe tbody tr th:only-of-type {\n",
       "        vertical-align: middle;\n",
       "    }\n",
       "\n",
       "    .dataframe tbody tr th {\n",
       "        vertical-align: top;\n",
       "    }\n",
       "\n",
       "    .dataframe thead th {\n",
       "        text-align: right;\n",
       "    }\n",
       "</style>\n",
       "<table border=\"1\" class=\"dataframe\">\n",
       "  <thead>\n",
       "    <tr style=\"text-align: right;\">\n",
       "      <th></th>\n",
       "      <th>GameID</th>\n",
       "      <th>LeagueIndex</th>\n",
       "      <th>APM</th>\n",
       "      <th>SelectByHotkeys</th>\n",
       "      <th>AssignToHotkeys</th>\n",
       "      <th>UniqueHotkeys</th>\n",
       "      <th>MinimapAttacks</th>\n",
       "      <th>MinimapRightClicks</th>\n",
       "      <th>NumberOfPACs</th>\n",
       "      <th>GapBetweenPACs</th>\n",
       "      <th>ActionLatency</th>\n",
       "      <th>ActionsInPAC</th>\n",
       "      <th>TotalMapExplored</th>\n",
       "      <th>WorkersMade</th>\n",
       "      <th>UniqueUnitsMade</th>\n",
       "      <th>ComplexUnitsMade</th>\n",
       "      <th>ComplexAbilitiesUsed</th>\n",
       "    </tr>\n",
       "  </thead>\n",
       "  <tbody>\n",
       "    <tr>\n",
       "      <th>count</th>\n",
       "      <td>3395.000000</td>\n",
       "      <td>3395.000000</td>\n",
       "      <td>3395.000000</td>\n",
       "      <td>3395.000000</td>\n",
       "      <td>3395.000000</td>\n",
       "      <td>3395.000000</td>\n",
       "      <td>3395.000000</td>\n",
       "      <td>3395.000000</td>\n",
       "      <td>3395.000000</td>\n",
       "      <td>3395.000000</td>\n",
       "      <td>3395.000000</td>\n",
       "      <td>3395.000000</td>\n",
       "      <td>3395.000000</td>\n",
       "      <td>3395.000000</td>\n",
       "      <td>3395.000000</td>\n",
       "      <td>3395.000000</td>\n",
       "      <td>3395.000000</td>\n",
       "    </tr>\n",
       "    <tr>\n",
       "      <th>mean</th>\n",
       "      <td>4805.012371</td>\n",
       "      <td>4.184094</td>\n",
       "      <td>117.046947</td>\n",
       "      <td>0.004299</td>\n",
       "      <td>0.000374</td>\n",
       "      <td>4.364654</td>\n",
       "      <td>0.000098</td>\n",
       "      <td>0.000387</td>\n",
       "      <td>0.003463</td>\n",
       "      <td>40.361562</td>\n",
       "      <td>63.739403</td>\n",
       "      <td>5.272988</td>\n",
       "      <td>22.131664</td>\n",
       "      <td>0.001032</td>\n",
       "      <td>6.534021</td>\n",
       "      <td>0.000059</td>\n",
       "      <td>0.000142</td>\n",
       "    </tr>\n",
       "    <tr>\n",
       "      <th>std</th>\n",
       "      <td>2719.944851</td>\n",
       "      <td>1.517327</td>\n",
       "      <td>51.945291</td>\n",
       "      <td>0.005284</td>\n",
       "      <td>0.000225</td>\n",
       "      <td>2.360333</td>\n",
       "      <td>0.000166</td>\n",
       "      <td>0.000377</td>\n",
       "      <td>0.000992</td>\n",
       "      <td>17.153570</td>\n",
       "      <td>19.238869</td>\n",
       "      <td>1.494835</td>\n",
       "      <td>7.431719</td>\n",
       "      <td>0.000519</td>\n",
       "      <td>1.857697</td>\n",
       "      <td>0.000111</td>\n",
       "      <td>0.000265</td>\n",
       "    </tr>\n",
       "    <tr>\n",
       "      <th>min</th>\n",
       "      <td>52.000000</td>\n",
       "      <td>1.000000</td>\n",
       "      <td>22.059600</td>\n",
       "      <td>0.000000</td>\n",
       "      <td>0.000000</td>\n",
       "      <td>0.000000</td>\n",
       "      <td>0.000000</td>\n",
       "      <td>0.000000</td>\n",
       "      <td>0.000679</td>\n",
       "      <td>6.666700</td>\n",
       "      <td>24.093600</td>\n",
       "      <td>2.038900</td>\n",
       "      <td>5.000000</td>\n",
       "      <td>0.000077</td>\n",
       "      <td>2.000000</td>\n",
       "      <td>0.000000</td>\n",
       "      <td>0.000000</td>\n",
       "    </tr>\n",
       "    <tr>\n",
       "      <th>25%</th>\n",
       "      <td>2464.500000</td>\n",
       "      <td>3.000000</td>\n",
       "      <td>79.900200</td>\n",
       "      <td>0.001258</td>\n",
       "      <td>0.000204</td>\n",
       "      <td>3.000000</td>\n",
       "      <td>0.000000</td>\n",
       "      <td>0.000140</td>\n",
       "      <td>0.002754</td>\n",
       "      <td>28.957750</td>\n",
       "      <td>50.446600</td>\n",
       "      <td>4.272850</td>\n",
       "      <td>17.000000</td>\n",
       "      <td>0.000683</td>\n",
       "      <td>5.000000</td>\n",
       "      <td>0.000000</td>\n",
       "      <td>0.000000</td>\n",
       "    </tr>\n",
       "    <tr>\n",
       "      <th>50%</th>\n",
       "      <td>4874.000000</td>\n",
       "      <td>4.000000</td>\n",
       "      <td>108.010200</td>\n",
       "      <td>0.002500</td>\n",
       "      <td>0.000353</td>\n",
       "      <td>4.000000</td>\n",
       "      <td>0.000040</td>\n",
       "      <td>0.000281</td>\n",
       "      <td>0.003395</td>\n",
       "      <td>36.723500</td>\n",
       "      <td>60.931800</td>\n",
       "      <td>5.095500</td>\n",
       "      <td>22.000000</td>\n",
       "      <td>0.000905</td>\n",
       "      <td>6.000000</td>\n",
       "      <td>0.000000</td>\n",
       "      <td>0.000020</td>\n",
       "    </tr>\n",
       "    <tr>\n",
       "      <th>75%</th>\n",
       "      <td>7108.500000</td>\n",
       "      <td>5.000000</td>\n",
       "      <td>142.790400</td>\n",
       "      <td>0.005133</td>\n",
       "      <td>0.000499</td>\n",
       "      <td>6.000000</td>\n",
       "      <td>0.000119</td>\n",
       "      <td>0.000514</td>\n",
       "      <td>0.004027</td>\n",
       "      <td>48.290500</td>\n",
       "      <td>73.681300</td>\n",
       "      <td>6.033600</td>\n",
       "      <td>27.000000</td>\n",
       "      <td>0.001259</td>\n",
       "      <td>8.000000</td>\n",
       "      <td>0.000086</td>\n",
       "      <td>0.000181</td>\n",
       "    </tr>\n",
       "    <tr>\n",
       "      <th>max</th>\n",
       "      <td>10095.000000</td>\n",
       "      <td>8.000000</td>\n",
       "      <td>389.831400</td>\n",
       "      <td>0.043088</td>\n",
       "      <td>0.001752</td>\n",
       "      <td>10.000000</td>\n",
       "      <td>0.003019</td>\n",
       "      <td>0.004041</td>\n",
       "      <td>0.007971</td>\n",
       "      <td>237.142900</td>\n",
       "      <td>176.372100</td>\n",
       "      <td>18.558100</td>\n",
       "      <td>58.000000</td>\n",
       "      <td>0.005149</td>\n",
       "      <td>13.000000</td>\n",
       "      <td>0.000902</td>\n",
       "      <td>0.003084</td>\n",
       "    </tr>\n",
       "  </tbody>\n",
       "</table>\n",
       "</div>"
      ],
      "text/plain": [
       "             GameID  LeagueIndex          APM  SelectByHotkeys  \\\n",
       "count   3395.000000  3395.000000  3395.000000      3395.000000   \n",
       "mean    4805.012371     4.184094   117.046947         0.004299   \n",
       "std     2719.944851     1.517327    51.945291         0.005284   \n",
       "min       52.000000     1.000000    22.059600         0.000000   \n",
       "25%     2464.500000     3.000000    79.900200         0.001258   \n",
       "50%     4874.000000     4.000000   108.010200         0.002500   \n",
       "75%     7108.500000     5.000000   142.790400         0.005133   \n",
       "max    10095.000000     8.000000   389.831400         0.043088   \n",
       "\n",
       "       AssignToHotkeys  UniqueHotkeys  MinimapAttacks  MinimapRightClicks  \\\n",
       "count      3395.000000    3395.000000     3395.000000         3395.000000   \n",
       "mean          0.000374       4.364654        0.000098            0.000387   \n",
       "std           0.000225       2.360333        0.000166            0.000377   \n",
       "min           0.000000       0.000000        0.000000            0.000000   \n",
       "25%           0.000204       3.000000        0.000000            0.000140   \n",
       "50%           0.000353       4.000000        0.000040            0.000281   \n",
       "75%           0.000499       6.000000        0.000119            0.000514   \n",
       "max           0.001752      10.000000        0.003019            0.004041   \n",
       "\n",
       "       NumberOfPACs  GapBetweenPACs  ActionLatency  ActionsInPAC  \\\n",
       "count   3395.000000     3395.000000    3395.000000   3395.000000   \n",
       "mean       0.003463       40.361562      63.739403      5.272988   \n",
       "std        0.000992       17.153570      19.238869      1.494835   \n",
       "min        0.000679        6.666700      24.093600      2.038900   \n",
       "25%        0.002754       28.957750      50.446600      4.272850   \n",
       "50%        0.003395       36.723500      60.931800      5.095500   \n",
       "75%        0.004027       48.290500      73.681300      6.033600   \n",
       "max        0.007971      237.142900     176.372100     18.558100   \n",
       "\n",
       "       TotalMapExplored  WorkersMade  UniqueUnitsMade  ComplexUnitsMade  \\\n",
       "count       3395.000000  3395.000000      3395.000000       3395.000000   \n",
       "mean          22.131664     0.001032         6.534021          0.000059   \n",
       "std            7.431719     0.000519         1.857697          0.000111   \n",
       "min            5.000000     0.000077         2.000000          0.000000   \n",
       "25%           17.000000     0.000683         5.000000          0.000000   \n",
       "50%           22.000000     0.000905         6.000000          0.000000   \n",
       "75%           27.000000     0.001259         8.000000          0.000086   \n",
       "max           58.000000     0.005149        13.000000          0.000902   \n",
       "\n",
       "       ComplexAbilitiesUsed  \n",
       "count           3395.000000  \n",
       "mean               0.000142  \n",
       "std                0.000265  \n",
       "min                0.000000  \n",
       "25%                0.000000  \n",
       "50%                0.000020  \n",
       "75%                0.000181  \n",
       "max                0.003084  "
      ]
     },
     "execution_count": 5,
     "metadata": {},
     "output_type": "execute_result"
    }
   ],
   "source": [
    "data.describe()"
   ]
  },
  {
   "cell_type": "code",
   "execution_count": 6,
   "metadata": {},
   "outputs": [
    {
     "name": "stdout",
     "output_type": "stream",
     "text": [
      "<class 'pandas.core.frame.DataFrame'>\n",
      "RangeIndex: 3395 entries, 0 to 3394\n",
      "Data columns (total 20 columns):\n",
      " #   Column                Non-Null Count  Dtype  \n",
      "---  ------                --------------  -----  \n",
      " 0   GameID                3395 non-null   int64  \n",
      " 1   LeagueIndex           3395 non-null   int64  \n",
      " 2   Age                   3395 non-null   object \n",
      " 3   HoursPerWeek          3395 non-null   object \n",
      " 4   TotalHours            3395 non-null   object \n",
      " 5   APM                   3395 non-null   float64\n",
      " 6   SelectByHotkeys       3395 non-null   float64\n",
      " 7   AssignToHotkeys       3395 non-null   float64\n",
      " 8   UniqueHotkeys         3395 non-null   int64  \n",
      " 9   MinimapAttacks        3395 non-null   float64\n",
      " 10  MinimapRightClicks    3395 non-null   float64\n",
      " 11  NumberOfPACs          3395 non-null   float64\n",
      " 12  GapBetweenPACs        3395 non-null   float64\n",
      " 13  ActionLatency         3395 non-null   float64\n",
      " 14  ActionsInPAC          3395 non-null   float64\n",
      " 15  TotalMapExplored      3395 non-null   int64  \n",
      " 16  WorkersMade           3395 non-null   float64\n",
      " 17  UniqueUnitsMade       3395 non-null   int64  \n",
      " 18  ComplexUnitsMade      3395 non-null   float64\n",
      " 19  ComplexAbilitiesUsed  3395 non-null   float64\n",
      "dtypes: float64(12), int64(5), object(3)\n",
      "memory usage: 530.6+ KB\n"
     ]
    }
   ],
   "source": [
    "data.info()"
   ]
  },
  {
   "cell_type": "code",
   "execution_count": 12,
   "metadata": {},
   "outputs": [
    {
     "data": {
      "text/html": [
       "<div>\n",
       "<style scoped>\n",
       "    .dataframe tbody tr th:only-of-type {\n",
       "        vertical-align: middle;\n",
       "    }\n",
       "\n",
       "    .dataframe tbody tr th {\n",
       "        vertical-align: top;\n",
       "    }\n",
       "\n",
       "    .dataframe thead th {\n",
       "        text-align: right;\n",
       "    }\n",
       "</style>\n",
       "<table border=\"1\" class=\"dataframe\">\n",
       "  <thead>\n",
       "    <tr style=\"text-align: right;\">\n",
       "      <th></th>\n",
       "      <th>GameID</th>\n",
       "      <th>LeagueIndex</th>\n",
       "      <th>Age</th>\n",
       "      <th>HoursPerWeek</th>\n",
       "      <th>TotalHours</th>\n",
       "      <th>APM</th>\n",
       "      <th>SelectByHotkeys</th>\n",
       "      <th>AssignToHotkeys</th>\n",
       "      <th>UniqueHotkeys</th>\n",
       "      <th>MinimapAttacks</th>\n",
       "      <th>MinimapRightClicks</th>\n",
       "      <th>NumberOfPACs</th>\n",
       "      <th>GapBetweenPACs</th>\n",
       "      <th>ActionLatency</th>\n",
       "      <th>ActionsInPAC</th>\n",
       "      <th>TotalMapExplored</th>\n",
       "      <th>WorkersMade</th>\n",
       "      <th>UniqueUnitsMade</th>\n",
       "      <th>ComplexUnitsMade</th>\n",
       "      <th>ComplexAbilitiesUsed</th>\n",
       "    </tr>\n",
       "  </thead>\n",
       "  <tbody>\n",
       "    <tr>\n",
       "      <th>3385</th>\n",
       "      <td>10079</td>\n",
       "      <td>8</td>\n",
       "      <td>?</td>\n",
       "      <td>?</td>\n",
       "      <td>?</td>\n",
       "      <td>254.2188</td>\n",
       "      <td>0.016608</td>\n",
       "      <td>0.000788</td>\n",
       "      <td>6</td>\n",
       "      <td>0.000926</td>\n",
       "      <td>0.000330</td>\n",
       "      <td>0.005408</td>\n",
       "      <td>14.9191</td>\n",
       "      <td>35.9921</td>\n",
       "      <td>5.7205</td>\n",
       "      <td>28</td>\n",
       "      <td>0.001128</td>\n",
       "      <td>6</td>\n",
       "      <td>0.000000</td>\n",
       "      <td>0.000000</td>\n",
       "    </tr>\n",
       "    <tr>\n",
       "      <th>3386</th>\n",
       "      <td>10081</td>\n",
       "      <td>8</td>\n",
       "      <td>?</td>\n",
       "      <td>?</td>\n",
       "      <td>?</td>\n",
       "      <td>339.1524</td>\n",
       "      <td>0.033058</td>\n",
       "      <td>0.001017</td>\n",
       "      <td>10</td>\n",
       "      <td>0.000477</td>\n",
       "      <td>0.000509</td>\n",
       "      <td>0.004609</td>\n",
       "      <td>21.6389</td>\n",
       "      <td>37.1862</td>\n",
       "      <td>6.7103</td>\n",
       "      <td>16</td>\n",
       "      <td>0.001049</td>\n",
       "      <td>3</td>\n",
       "      <td>0.000000</td>\n",
       "      <td>0.000000</td>\n",
       "    </tr>\n",
       "    <tr>\n",
       "      <th>3387</th>\n",
       "      <td>10082</td>\n",
       "      <td>8</td>\n",
       "      <td>?</td>\n",
       "      <td>?</td>\n",
       "      <td>?</td>\n",
       "      <td>310.0416</td>\n",
       "      <td>0.026873</td>\n",
       "      <td>0.001278</td>\n",
       "      <td>10</td>\n",
       "      <td>0.000319</td>\n",
       "      <td>0.000479</td>\n",
       "      <td>0.005517</td>\n",
       "      <td>16.5446</td>\n",
       "      <td>33.8174</td>\n",
       "      <td>5.7350</td>\n",
       "      <td>22</td>\n",
       "      <td>0.000922</td>\n",
       "      <td>8</td>\n",
       "      <td>0.000000</td>\n",
       "      <td>0.000000</td>\n",
       "    </tr>\n",
       "    <tr>\n",
       "      <th>3388</th>\n",
       "      <td>10083</td>\n",
       "      <td>8</td>\n",
       "      <td>?</td>\n",
       "      <td>?</td>\n",
       "      <td>?</td>\n",
       "      <td>288.7608</td>\n",
       "      <td>0.024022</td>\n",
       "      <td>0.000628</td>\n",
       "      <td>6</td>\n",
       "      <td>0.000350</td>\n",
       "      <td>0.001051</td>\n",
       "      <td>0.005580</td>\n",
       "      <td>19.0108</td>\n",
       "      <td>30.0866</td>\n",
       "      <td>5.3831</td>\n",
       "      <td>30</td>\n",
       "      <td>0.000761</td>\n",
       "      <td>5</td>\n",
       "      <td>0.000000</td>\n",
       "      <td>0.000652</td>\n",
       "    </tr>\n",
       "    <tr>\n",
       "      <th>3389</th>\n",
       "      <td>10084</td>\n",
       "      <td>8</td>\n",
       "      <td>?</td>\n",
       "      <td>?</td>\n",
       "      <td>?</td>\n",
       "      <td>151.4046</td>\n",
       "      <td>0.009732</td>\n",
       "      <td>0.000949</td>\n",
       "      <td>6</td>\n",
       "      <td>0.000028</td>\n",
       "      <td>0.000156</td>\n",
       "      <td>0.004363</td>\n",
       "      <td>27.4658</td>\n",
       "      <td>43.8052</td>\n",
       "      <td>4.3312</td>\n",
       "      <td>23</td>\n",
       "      <td>0.000949</td>\n",
       "      <td>6</td>\n",
       "      <td>0.000000</td>\n",
       "      <td>0.000099</td>\n",
       "    </tr>\n",
       "    <tr>\n",
       "      <th>3390</th>\n",
       "      <td>10089</td>\n",
       "      <td>8</td>\n",
       "      <td>?</td>\n",
       "      <td>?</td>\n",
       "      <td>?</td>\n",
       "      <td>259.6296</td>\n",
       "      <td>0.020425</td>\n",
       "      <td>0.000743</td>\n",
       "      <td>9</td>\n",
       "      <td>0.000621</td>\n",
       "      <td>0.000146</td>\n",
       "      <td>0.004555</td>\n",
       "      <td>18.6059</td>\n",
       "      <td>42.8342</td>\n",
       "      <td>6.2754</td>\n",
       "      <td>46</td>\n",
       "      <td>0.000877</td>\n",
       "      <td>5</td>\n",
       "      <td>0.000000</td>\n",
       "      <td>0.000000</td>\n",
       "    </tr>\n",
       "    <tr>\n",
       "      <th>3391</th>\n",
       "      <td>10090</td>\n",
       "      <td>8</td>\n",
       "      <td>?</td>\n",
       "      <td>?</td>\n",
       "      <td>?</td>\n",
       "      <td>314.6700</td>\n",
       "      <td>0.028043</td>\n",
       "      <td>0.001157</td>\n",
       "      <td>10</td>\n",
       "      <td>0.000246</td>\n",
       "      <td>0.001083</td>\n",
       "      <td>0.004259</td>\n",
       "      <td>14.3023</td>\n",
       "      <td>36.1156</td>\n",
       "      <td>7.1965</td>\n",
       "      <td>16</td>\n",
       "      <td>0.000788</td>\n",
       "      <td>4</td>\n",
       "      <td>0.000000</td>\n",
       "      <td>0.000000</td>\n",
       "    </tr>\n",
       "    <tr>\n",
       "      <th>3392</th>\n",
       "      <td>10092</td>\n",
       "      <td>8</td>\n",
       "      <td>?</td>\n",
       "      <td>?</td>\n",
       "      <td>?</td>\n",
       "      <td>299.4282</td>\n",
       "      <td>0.028341</td>\n",
       "      <td>0.000860</td>\n",
       "      <td>7</td>\n",
       "      <td>0.000338</td>\n",
       "      <td>0.000169</td>\n",
       "      <td>0.004439</td>\n",
       "      <td>12.4028</td>\n",
       "      <td>39.5156</td>\n",
       "      <td>6.3979</td>\n",
       "      <td>19</td>\n",
       "      <td>0.001260</td>\n",
       "      <td>4</td>\n",
       "      <td>0.000000</td>\n",
       "      <td>0.000000</td>\n",
       "    </tr>\n",
       "    <tr>\n",
       "      <th>3393</th>\n",
       "      <td>10094</td>\n",
       "      <td>8</td>\n",
       "      <td>?</td>\n",
       "      <td>?</td>\n",
       "      <td>?</td>\n",
       "      <td>375.8664</td>\n",
       "      <td>0.036436</td>\n",
       "      <td>0.000594</td>\n",
       "      <td>5</td>\n",
       "      <td>0.000204</td>\n",
       "      <td>0.000780</td>\n",
       "      <td>0.004346</td>\n",
       "      <td>11.6910</td>\n",
       "      <td>34.8547</td>\n",
       "      <td>7.9615</td>\n",
       "      <td>15</td>\n",
       "      <td>0.000613</td>\n",
       "      <td>6</td>\n",
       "      <td>0.000000</td>\n",
       "      <td>0.000631</td>\n",
       "    </tr>\n",
       "    <tr>\n",
       "      <th>3394</th>\n",
       "      <td>10095</td>\n",
       "      <td>8</td>\n",
       "      <td>?</td>\n",
       "      <td>?</td>\n",
       "      <td>?</td>\n",
       "      <td>348.3576</td>\n",
       "      <td>0.029855</td>\n",
       "      <td>0.000811</td>\n",
       "      <td>4</td>\n",
       "      <td>0.000224</td>\n",
       "      <td>0.001315</td>\n",
       "      <td>0.005566</td>\n",
       "      <td>20.0537</td>\n",
       "      <td>33.5142</td>\n",
       "      <td>6.3719</td>\n",
       "      <td>27</td>\n",
       "      <td>0.001566</td>\n",
       "      <td>7</td>\n",
       "      <td>0.000457</td>\n",
       "      <td>0.000895</td>\n",
       "    </tr>\n",
       "  </tbody>\n",
       "</table>\n",
       "</div>"
      ],
      "text/plain": [
       "      GameID  LeagueIndex Age HoursPerWeek TotalHours       APM  \\\n",
       "3385   10079            8   ?            ?          ?  254.2188   \n",
       "3386   10081            8   ?            ?          ?  339.1524   \n",
       "3387   10082            8   ?            ?          ?  310.0416   \n",
       "3388   10083            8   ?            ?          ?  288.7608   \n",
       "3389   10084            8   ?            ?          ?  151.4046   \n",
       "3390   10089            8   ?            ?          ?  259.6296   \n",
       "3391   10090            8   ?            ?          ?  314.6700   \n",
       "3392   10092            8   ?            ?          ?  299.4282   \n",
       "3393   10094            8   ?            ?          ?  375.8664   \n",
       "3394   10095            8   ?            ?          ?  348.3576   \n",
       "\n",
       "      SelectByHotkeys  AssignToHotkeys  UniqueHotkeys  MinimapAttacks  \\\n",
       "3385         0.016608         0.000788              6        0.000926   \n",
       "3386         0.033058         0.001017             10        0.000477   \n",
       "3387         0.026873         0.001278             10        0.000319   \n",
       "3388         0.024022         0.000628              6        0.000350   \n",
       "3389         0.009732         0.000949              6        0.000028   \n",
       "3390         0.020425         0.000743              9        0.000621   \n",
       "3391         0.028043         0.001157             10        0.000246   \n",
       "3392         0.028341         0.000860              7        0.000338   \n",
       "3393         0.036436         0.000594              5        0.000204   \n",
       "3394         0.029855         0.000811              4        0.000224   \n",
       "\n",
       "      MinimapRightClicks  NumberOfPACs  GapBetweenPACs  ActionLatency  \\\n",
       "3385            0.000330      0.005408         14.9191        35.9921   \n",
       "3386            0.000509      0.004609         21.6389        37.1862   \n",
       "3387            0.000479      0.005517         16.5446        33.8174   \n",
       "3388            0.001051      0.005580         19.0108        30.0866   \n",
       "3389            0.000156      0.004363         27.4658        43.8052   \n",
       "3390            0.000146      0.004555         18.6059        42.8342   \n",
       "3391            0.001083      0.004259         14.3023        36.1156   \n",
       "3392            0.000169      0.004439         12.4028        39.5156   \n",
       "3393            0.000780      0.004346         11.6910        34.8547   \n",
       "3394            0.001315      0.005566         20.0537        33.5142   \n",
       "\n",
       "      ActionsInPAC  TotalMapExplored  WorkersMade  UniqueUnitsMade  \\\n",
       "3385        5.7205                28     0.001128                6   \n",
       "3386        6.7103                16     0.001049                3   \n",
       "3387        5.7350                22     0.000922                8   \n",
       "3388        5.3831                30     0.000761                5   \n",
       "3389        4.3312                23     0.000949                6   \n",
       "3390        6.2754                46     0.000877                5   \n",
       "3391        7.1965                16     0.000788                4   \n",
       "3392        6.3979                19     0.001260                4   \n",
       "3393        7.9615                15     0.000613                6   \n",
       "3394        6.3719                27     0.001566                7   \n",
       "\n",
       "      ComplexUnitsMade  ComplexAbilitiesUsed  \n",
       "3385          0.000000              0.000000  \n",
       "3386          0.000000              0.000000  \n",
       "3387          0.000000              0.000000  \n",
       "3388          0.000000              0.000652  \n",
       "3389          0.000000              0.000099  \n",
       "3390          0.000000              0.000000  \n",
       "3391          0.000000              0.000000  \n",
       "3392          0.000000              0.000000  \n",
       "3393          0.000000              0.000631  \n",
       "3394          0.000457              0.000895  "
      ]
     },
     "execution_count": 12,
     "metadata": {},
     "output_type": "execute_result"
    }
   ],
   "source": [
    "data.tail(10)"
   ]
  },
  {
   "attachments": {},
   "cell_type": "markdown",
   "metadata": {},
   "source": [
    "Age, HoursPerWeek, and TotalHours contains some missing values marked as \"?\", we need to meaure how much missing values we have"
   ]
  },
  {
   "cell_type": "code",
   "execution_count": 5,
   "metadata": {},
   "outputs": [
    {
     "name": "stdout",
     "output_type": "stream",
     "text": [
      "Number of missing values in Age marked as '?': 55\n",
      "Number of missing values in TotalHours marked as '?': 57\n",
      "Number of missing values in HoursPerWeek marked as '?': 56\n"
     ]
    }
   ],
   "source": [
    "missing_count = (data['Age'] == '?').sum()\n",
    "\n",
    "print(\"Number of missing values in Age marked as '?':\", missing_count)\n",
    "\n",
    "missing_count = (data['TotalHours'] == '?').sum()\n",
    "\n",
    "print(\"Number of missing values in TotalHours marked as '?':\", missing_count)\n",
    "\n",
    "missing_count = (data['HoursPerWeek'] == '?').sum()\n",
    "\n",
    "print(\"Number of missing values in HoursPerWeek marked as '?':\", missing_count)"
   ]
  },
  {
   "cell_type": "code",
   "execution_count": 6,
   "metadata": {},
   "outputs": [
    {
     "name": "stdout",
     "output_type": "stream",
     "text": [
      "No missing values marked as '?' found in the DataFrame.\n"
     ]
    }
   ],
   "source": [
    "## check if there any other features with missing values marked as \"?\"\n",
    "missing_values_exist = (data.replace('?', pd.NA).eq('?')).any().any()\n",
    "\n",
    "if missing_values_exist:\n",
    "    print(\"Missing values marked as '?' exist in the DataFrame.\")\n",
    "else:\n",
    "    print(\"No missing values marked as '?' found in the DataFrame.\")"
   ]
  },
  {
   "attachments": {},
   "cell_type": "markdown",
   "metadata": {},
   "source": [
    "We have different amount of missing values for those three features,since we have over 3000 observations, we can ignore those missing values for now (at least for linear models), we may try to use ML models to handel those missing values. In future, we may consider to impute those values if possible."
   ]
  },
  {
   "cell_type": "code",
   "execution_count": 7,
   "metadata": {},
   "outputs": [],
   "source": [
    "columns_to_process = ['Age', 'TotalHours', 'HoursPerWeek']\n",
    "\n",
    "# Replace \"?\" with NaN in the specified columns\n",
    "data[columns_to_process] = data[columns_to_process].replace('?', np.nan)\n",
    "\n",
    "# Drop rows with missing values in the specified columns\n",
    "data_no_missing = data.dropna(subset=columns_to_process)"
   ]
  },
  {
   "attachments": {},
   "cell_type": "markdown",
   "metadata": {},
   "source": [
    "Now convert them to the correct data type(as integer)"
   ]
  },
  {
   "cell_type": "code",
   "execution_count": 13,
   "metadata": {},
   "outputs": [],
   "source": [
    "# data without missing values, for linear models\n",
    "data_no_missing.loc[:, columns_to_process] = data_no_missing.loc[:, columns_to_process].astype(int)"
   ]
  },
  {
   "attachments": {},
   "cell_type": "markdown",
   "metadata": {},
   "source": [
    "Now, we have no missing values"
   ]
  },
  {
   "attachments": {},
   "cell_type": "markdown",
   "metadata": {},
   "source": [
    "### Data profile"
   ]
  },
  {
   "attachments": {},
   "cell_type": "markdown",
   "metadata": {},
   "source": [
    "Data profile is generated to get some data information, but I will not run the code here. An HTML file is used to store some EDA."
   ]
  },
  {
   "cell_type": "code",
   "execution_count": 212,
   "metadata": {},
   "outputs": [
    {
     "name": "stderr",
     "output_type": "stream",
     "text": [
      "Summarize dataset: 100%|██████████| 429/429 [01:14<00:00,  5.74it/s, Completed]                                         \n",
      "Generate report structure: 100%|██████████| 1/1 [00:08<00:00,  8.89s/it]\n",
      "Render HTML: 100%|██████████| 1/1 [00:18<00:00, 18.09s/it]\n",
      "Export report to file: 100%|██████████| 1/1 [00:00<00:00, 15.46it/s]\n"
     ]
    }
   ],
   "source": [
    "import pandas_profiling\n",
    "profile = pandas_profiling.ProfileReport(data)\n",
    "profile.to_file(\"data_profile.html\")"
   ]
  },
  {
   "cell_type": "code",
   "execution_count": 226,
   "metadata": {},
   "outputs": [
    {
     "data": {
      "image/png": "[encoded data removed]",
      "text/plain": [
       "<Figure size 640x480 with 1 Axes>"
      ]
     },
     "metadata": {},
     "output_type": "display_data"
    }
   ],
   "source": [
    "plt.hist(data[\"LeagueIndex\"], bins=8, edgecolor='black')\n",
    "plt.xlabel('LeagueIndex')\n",
    "plt.ylabel('Frequency')\n",
    "plt.title('Histogram of LeagueIndex')\n",
    "plt.show()"
   ]
  },
  {
   "cell_type": "code",
   "execution_count": 14,
   "metadata": {},
   "outputs": [
    {
     "name": "stdout",
     "output_type": "stream",
     "text": [
      "                        GameID  LeagueIndex       Age  HoursPerWeek  \\\n",
      "GameID                1.000000     0.024974  0.088511     -0.025322   \n",
      "LeagueIndex           0.024974     1.000000 -0.127518      0.217930   \n",
      "Age                   0.088511    -0.127518  1.000000     -0.184431   \n",
      "HoursPerWeek         -0.025322     0.217930 -0.184431      1.000000   \n",
      "TotalHours            0.004178     0.023884 -0.016630      0.024306   \n",
      "APM                   0.075944     0.624171 -0.210724      0.246897   \n",
      "SelectByHotkeys       0.070298     0.428637 -0.131105      0.205792   \n",
      "AssignToHotkeys       0.063915     0.487280 -0.104960      0.158316   \n",
      "UniqueHotkeys         0.081176     0.322415  0.015119      0.070262   \n",
      "MinimapAttacks        0.022422     0.270526  0.043100      0.084103   \n",
      "MinimapRightClicks    0.009898     0.206380 -0.019904      0.049498   \n",
      "NumberOfPACs          0.035622     0.589193 -0.197128      0.174871   \n",
      "GapBetweenPACs       -0.065629    -0.537536  0.112106     -0.133838   \n",
      "ActionLatency        -0.042711    -0.659940  0.240240     -0.188735   \n",
      "ActionsInPAC          0.039482     0.140303 -0.045893      0.095271   \n",
      "TotalMapExplored      0.030894     0.230347 -0.024191      0.064896   \n",
      "WorkersMade          -0.015191     0.310452 -0.092291      0.050679   \n",
      "UniqueUnitsMade       0.029487     0.151933  0.022893      0.038524   \n",
      "ComplexUnitsMade     -0.018056     0.171190 -0.080269      0.059285   \n",
      "ComplexAbilitiesUsed  0.004051     0.156033 -0.065603      0.074713   \n",
      "\n",
      "                      TotalHours       APM  SelectByHotkeys  AssignToHotkeys  \\\n",
      "GameID                  0.004178  0.075944         0.070298         0.063915   \n",
      "LeagueIndex             0.023884  0.624171         0.428637         0.487280   \n",
      "Age                    -0.016630 -0.210724        -0.131105        -0.104960   \n",
      "HoursPerWeek            0.024306  0.246897         0.205792         0.158316   \n",
      "TotalHours              1.000000  0.072850         0.081830         0.042415   \n",
      "APM                     0.072850  1.000000         0.814624         0.534134   \n",
      "SelectByHotkeys         0.081830  0.814624         1.000000         0.450342   \n",
      "AssignToHotkeys         0.042415  0.534134         0.450342         1.000000   \n",
      "UniqueHotkeys           0.009318  0.335986         0.274030         0.402555   \n",
      "MinimapAttacks          0.000869  0.218562         0.132723         0.205436   \n",
      "MinimapRightClicks      0.007662  0.306392         0.107615         0.154998   \n",
      "NumberOfPACs            0.039577  0.635248         0.360057         0.454480   \n",
      "GapBetweenPACs         -0.020644 -0.567396        -0.273767        -0.377926   \n",
      "ActionLatency          -0.035700 -0.722253        -0.390012        -0.461496   \n",
      "ActionsInPAC            0.010704  0.402928         0.166964         0.091508   \n",
      "TotalMapExplored        0.020486  0.239336         0.097397         0.201862   \n",
      "WorkersMade             0.014828  0.377719         0.161404         0.197011   \n",
      "UniqueUnitsMade        -0.002379  0.122916         0.027628         0.149329   \n",
      "ComplexUnitsMade       -0.007154  0.161774         0.065467         0.169849   \n",
      "ComplexAbilitiesUsed   -0.006311  0.141060         0.063720         0.169048   \n",
      "\n",
      "                      UniqueHotkeys  MinimapAttacks  MinimapRightClicks  \\\n",
      "GameID                     0.081176        0.022422            0.009898   \n",
      "LeagueIndex                0.322415        0.270526            0.206380   \n",
      "Age                        0.015119        0.043100           -0.019904   \n",
      "HoursPerWeek               0.070262        0.084103            0.049498   \n",
      "TotalHours                 0.009318        0.000869            0.007662   \n",
      "APM                        0.335986        0.218562            0.306392   \n",
      "SelectByHotkeys            0.274030        0.132723            0.107615   \n",
      "AssignToHotkeys            0.402555        0.205436            0.154998   \n",
      "UniqueHotkeys              1.000000        0.151029            0.124570   \n",
      "MinimapAttacks             0.151029        1.000000            0.224683   \n",
      "MinimapRightClicks         0.124570        0.224683            1.000000   \n",
      "NumberOfPACs               0.353112        0.137745            0.143538   \n",
      "GapBetweenPACs            -0.223745       -0.213330           -0.244542   \n",
      "ActionLatency             -0.304583       -0.171464           -0.216644   \n",
      "ActionsInPAC              -0.022227        0.133712            0.323707   \n",
      "TotalMapExplored           0.267940        0.164110            0.173514   \n",
      "WorkersMade                0.111319        0.082283            0.212464   \n",
      "UniqueUnitsMade            0.233274        0.125035            0.154447   \n",
      "ComplexUnitsMade           0.122352        0.052225            0.097992   \n",
      "ComplexAbilitiesUsed       0.110004        0.042265            0.095659   \n",
      "\n",
      "                      NumberOfPACs  GapBetweenPACs  ActionLatency  \\\n",
      "GameID                    0.035622       -0.065629      -0.042711   \n",
      "LeagueIndex               0.589193       -0.537536      -0.659940   \n",
      "Age                      -0.197128        0.112106       0.240240   \n",
      "HoursPerWeek              0.174871       -0.133838      -0.188735   \n",
      "TotalHours                0.039577       -0.020644      -0.035700   \n",
      "APM                       0.635248       -0.567396      -0.722253   \n",
      "SelectByHotkeys           0.360057       -0.273767      -0.390012   \n",
      "AssignToHotkeys           0.454480       -0.377926      -0.461496   \n",
      "UniqueHotkeys             0.353112       -0.223745      -0.304583   \n",
      "MinimapAttacks            0.137745       -0.213330      -0.171464   \n",
      "MinimapRightClicks        0.143538       -0.244542      -0.216644   \n",
      "NumberOfPACs              1.000000       -0.491407      -0.817162   \n",
      "GapBetweenPACs           -0.491407        1.000000       0.680483   \n",
      "ActionLatency            -0.817162        0.680483       1.000000   \n",
      "ActionsInPAC             -0.242571       -0.310242      -0.106505   \n",
      "TotalMapExplored          0.470955       -0.094693      -0.349350   \n",
      "WorkersMade               0.282204       -0.237157      -0.313692   \n",
      "UniqueUnitsMade           0.322181       -0.089708      -0.223191   \n",
      "ComplexUnitsMade          0.196269       -0.082924      -0.198054   \n",
      "ComplexAbilitiesUsed      0.177696       -0.092005      -0.189681   \n",
      "\n",
      "                      ActionsInPAC  TotalMapExplored  WorkersMade  \\\n",
      "GameID                    0.039482          0.030894    -0.015191   \n",
      "LeagueIndex               0.140303          0.230347     0.310452   \n",
      "Age                      -0.045893         -0.024191    -0.092291   \n",
      "HoursPerWeek              0.095271          0.064896     0.050679   \n",
      "TotalHours                0.010704          0.020486     0.014828   \n",
      "APM                       0.402928          0.239336     0.377719   \n",
      "SelectByHotkeys           0.166964          0.097397     0.161404   \n",
      "AssignToHotkeys           0.091508          0.201862     0.197011   \n",
      "UniqueHotkeys            -0.022227          0.267940     0.111319   \n",
      "MinimapAttacks            0.133712          0.164110     0.082283   \n",
      "MinimapRightClicks        0.323707          0.173514     0.212464   \n",
      "NumberOfPACs             -0.242571          0.470955     0.282204   \n",
      "GapBetweenPACs           -0.310242         -0.094693    -0.237157   \n",
      "ActionLatency            -0.106505         -0.349350    -0.313692   \n",
      "ActionsInPAC              1.000000         -0.156688     0.253734   \n",
      "TotalMapExplored         -0.156688          1.000000     0.131511   \n",
      "WorkersMade               0.253734          0.131511     1.000000   \n",
      "UniqueUnitsMade          -0.134873          0.575231     0.112389   \n",
      "ComplexUnitsMade          0.054312          0.309039     0.203270   \n",
      "ComplexAbilitiesUsed      0.053406          0.251355     0.104955   \n",
      "\n",
      "                      UniqueUnitsMade  ComplexUnitsMade  ComplexAbilitiesUsed  \n",
      "GameID                       0.029487         -0.018056              0.004051  \n",
      "LeagueIndex                  0.151933          0.171190              0.156033  \n",
      "Age                          0.022893         -0.080269             -0.065603  \n",
      "HoursPerWeek                 0.038524          0.059285              0.074713  \n",
      "TotalHours                  -0.002379         -0.007154             -0.006311  \n",
      "APM                          0.122916          0.161774              0.141060  \n",
      "SelectByHotkeys              0.027628          0.065467              0.063720  \n",
      "AssignToHotkeys              0.149329          0.169849              0.169048  \n",
      "UniqueHotkeys                0.233274          0.122352              0.110004  \n",
      "MinimapAttacks               0.125035          0.052225              0.042265  \n",
      "MinimapRightClicks           0.154447          0.097992              0.095659  \n",
      "NumberOfPACs                 0.322181          0.196269              0.177696  \n",
      "GapBetweenPACs              -0.089708         -0.082924             -0.092005  \n",
      "ActionLatency               -0.223191         -0.198054             -0.189681  \n",
      "ActionsInPAC                -0.134873          0.054312              0.053406  \n",
      "TotalMapExplored             0.575231          0.309039              0.251355  \n",
      "WorkersMade                  0.112389          0.203270              0.104955  \n",
      "UniqueUnitsMade              1.000000          0.382217              0.294409  \n",
      "ComplexUnitsMade             0.382217          1.000000              0.620551  \n",
      "ComplexAbilitiesUsed         0.294409          0.620551              1.000000  \n"
     ]
    }
   ],
   "source": [
    "correlation_matrix = data_no_missing.corr()\n",
    "print(correlation_matrix)"
   ]
  },
  {
   "cell_type": "code",
   "execution_count": 17,
   "metadata": {},
   "outputs": [
    {
     "data": {
      "image/png": "[encoded data removed]",
      "text/plain": [
       "<Figure size 640x480 with 2 Axes>"
      ]
     },
     "metadata": {},
     "output_type": "display_data"
    }
   ],
   "source": [
    "sns.heatmap(correlation_matrix, cmap='coolwarm')\n",
    "plt.title('Correlation Matrix')\n",
    "plt.show()"
   ]
  },
  {
   "attachments": {},
   "cell_type": "markdown",
   "metadata": {},
   "source": [
    "Based on the correlation matrix, GapBetweenPACs and ActionLatency has high correlation with APM, Leagueindex, NumberofPACs. Other than that, high correlation between LeagueIndex, APM, SelectedByHotkeys and AssignToHotKeys are observed on the upper left corner. High correlation between ComplexUnitesMade, ComplexAbilitiesUsed and UniqueUnitsMade are observed on the lower right corner."
   ]
  },
  {
   "attachments": {},
   "cell_type": "markdown",
   "metadata": {},
   "source": [
    "## Model Fitting"
   ]
  },
  {
   "attachments": {},
   "cell_type": "markdown",
   "metadata": {},
   "source": [
    "### Linear Model"
   ]
  },
  {
   "attachments": {},
   "cell_type": "markdown",
   "metadata": {},
   "source": [
    "To valid and test models, a 80-20 train-test split is used on the data set"
   ]
  },
  {
   "cell_type": "code",
   "execution_count": 74,
   "metadata": {},
   "outputs": [],
   "source": [
    "from sklearn.model_selection import train_test_split\n",
    "X = data_no_missing.drop('LeagueIndex', axis=1)  # Specify the columns/features used for prediction\n",
    "y = data_no_missing['LeagueIndex']  # Specify the target variable\n",
    "X_train, X_test, y_train, y_test = train_test_split(X, y, test_size=0.2, random_state=42)"
   ]
  },
  {
   "attachments": {},
   "cell_type": "markdown",
   "metadata": {},
   "source": [
    "Try linear regression first"
   ]
  },
  {
   "cell_type": "code",
   "execution_count": 76,
   "metadata": {},
   "outputs": [],
   "source": [
    "from sklearn.linear_model import LinearRegression\n",
    "from sklearn.metrics import mean_squared_error\n",
    "import statsmodels.api as sm\n",
    "from sklearn.metrics import mean_squared_error, mean_absolute_error"
   ]
  },
  {
   "cell_type": "code",
   "execution_count": 77,
   "metadata": {},
   "outputs": [
    {
     "name": "stdout",
     "output_type": "stream",
     "text": [
      "                            OLS Regression Results                            \n",
      "==============================================================================\n",
      "Dep. Variable:            LeagueIndex   R-squared:                       0.544\n",
      "Model:                            OLS   Adj. R-squared:                  0.540\n",
      "Method:                 Least Squares   F-statistic:                     166.2\n",
      "Date:                Sat, 27 May 2023   Prob (F-statistic):               0.00\n",
      "Time:                        20:14:33   Log-Likelihood:                -3729.4\n",
      "No. Observations:                2670   AIC:                             7499.\n",
      "Df Residuals:                    2650   BIC:                             7617.\n",
      "Df Model:                          19                                         \n",
      "Covariance Type:            nonrobust                                         \n",
      "========================================================================================\n",
      "                           coef    std err          t      P>|t|      [0.025      0.975]\n",
      "----------------------------------------------------------------------------------------\n",
      "const                    3.7086      0.358     10.354      0.000       3.006       4.411\n",
      "GameID               -1.094e-05    7.3e-06     -1.498      0.134   -2.53e-05    3.38e-06\n",
      "Age                      0.0148      0.005      3.103      0.002       0.005       0.024\n",
      "HoursPerWeek             0.0093      0.002      5.582      0.000       0.006       0.013\n",
      "TotalHours            -1.02e-06   9.87e-07     -1.034      0.301   -2.95e-06    9.15e-07\n",
      "APM                     -0.0012      0.002     -0.497      0.619      -0.006       0.003\n",
      "SelectByHotkeys         40.7481     13.880      2.936      0.003      13.531      67.966\n",
      "AssignToHotkeys        861.8563    115.315      7.474      0.000     635.740    1087.973\n",
      "UniqueHotkeys            0.0283      0.009      3.030      0.002       0.010       0.047\n",
      "MinimapAttacks         962.3368    125.858      7.646      0.000     715.546    1209.127\n",
      "MinimapRightClicks      17.9982     58.849      0.306      0.760     -97.396     133.393\n",
      "NumberOfPACs           271.8312     72.326      3.758      0.000     130.009     413.653\n",
      "GapBetweenPACs          -0.0103      0.002     -6.297      0.000      -0.014      -0.007\n",
      "ActionLatency           -0.0212      0.002     -9.307      0.000      -0.026      -0.017\n",
      "ActionsInPAC             0.0517      0.035      1.492      0.136      -0.016       0.120\n",
      "TotalMapExplored        -0.0057      0.003     -1.620      0.105      -0.013       0.001\n",
      "WorkersMade            232.4014     41.114      5.653      0.000     151.782     313.021\n",
      "UniqueUnitsMade         -0.0246      0.013     -1.848      0.065      -0.051       0.001\n",
      "ComplexUnitsMade       440.1029    229.547      1.917      0.055     -10.007     890.212\n",
      "ComplexAbilitiesUsed    70.8938     93.305      0.760      0.447    -112.065     253.852\n",
      "==============================================================================\n",
      "Omnibus:                       21.400   Durbin-Watson:                   1.982\n",
      "Prob(Omnibus):                  0.000   Jarque-Bera (JB):               21.754\n",
      "Skew:                          -0.221   Prob(JB):                     1.89e-05\n",
      "Kurtosis:                       3.019   Cond. No.                     2.41e+08\n",
      "==============================================================================\n",
      "\n",
      "Notes:\n",
      "[1] Standard Errors assume that the covariance matrix of the errors is correctly specified.\n",
      "[2] The condition number is large, 2.41e+08. This might indicate that there are\n",
      "strong multicollinearity or other numerical problems.\n"
     ]
    }
   ],
   "source": [
    "# firt linear regression with all variables\n",
    "\n",
    "#add constant to predictor variables\n",
    "x = sm.add_constant(X_train)\n",
    "#fit linear regression model\n",
    "model = sm.OLS(y_train, x).fit()\n",
    "\n",
    "#view model summary\n",
    "print(model.summary())"
   ]
  },
  {
   "attachments": {},
   "cell_type": "markdown",
   "metadata": {},
   "source": [
    "Based on the model summary, we have a adj.R-square of 0.54, which means that approximately 54% of the variance in the dependent variable is explained by the independent variables in the linear regression model. The remaining 46% of the variance is unexplained or attributed to other factors not included in the model. We have some feature to be statistically insiginificant like GameID, TotalHours,APM and others. There are strong multicollinearity problems in this model and we will refit model after removing high correlated features and insiginificant features."
   ]
  },
  {
   "attachments": {},
   "cell_type": "markdown",
   "metadata": {},
   "source": [
    "Use test set to valid the linear model"
   ]
  },
  {
   "cell_type": "code",
   "execution_count": 78,
   "metadata": {},
   "outputs": [],
   "source": [
    "model = LinearRegression()\n",
    "model.fit(X_train, y_train)\n",
    "y_pred = model.predict(X_test)\n",
    "y_pred_train = model.predict(X_train)"
   ]
  },
  {
   "cell_type": "code",
   "execution_count": 89,
   "metadata": {},
   "outputs": [],
   "source": [
    "from sklearn.metrics import mean_squared_error, mean_absolute_error\n",
    "\n",
    "def calculate_rmse_mae(actual_values, predicted_values):\n",
    "    rmse = np.sqrt(mean_squared_error(actual_values, predicted_values))\n",
    "    mae = mean_absolute_error(actual_values, predicted_values)\n",
    "    sentence = f\"The RMSE is {rmse:.4f} and the MAE is {mae:.4f}.\"\n",
    "    return sentence\n",
    "\n",
    "def calculate_acc(actual_values, predicted_values):\n",
    "    actual_values = np.round(actual_values)\n",
    "    acc = np.mean(actual_values == predicted_values)\n",
    "    return acc"
   ]
  },
  {
   "cell_type": "code",
   "execution_count": 80,
   "metadata": {},
   "outputs": [
    {
     "name": "stdout",
     "output_type": "stream",
     "text": [
      "In Testing set The RMSE is 1.0050 and the MAE is 0.8159.\n",
      "In Training set The RMSE is 0.9781 and the MAE is 0.7793.\n"
     ]
    }
   ],
   "source": [
    "# Calculate RMSE and MAE\n",
    "result = calculate_rmse_mae(y_test, y_pred)\n",
    "print(\"In Testing set\", result)\n",
    "result = calculate_rmse_mae(y_train, y_pred_train)\n",
    "print(\"In Training set\", result)\n"
   ]
  },
  {
   "attachments": {},
   "cell_type": "markdown",
   "metadata": {},
   "source": [
    "Round the perdicted LeagueIndex to the nearest integer and calcualte the accuracy"
   ]
  },
  {
   "cell_type": "code",
   "execution_count": 84,
   "metadata": {},
   "outputs": [
    {
     "data": {
      "image/png": "[encoded data removed]",
      "text/plain": [
       "<Figure size 800x600 with 2 Axes>"
      ]
     },
     "metadata": {},
     "output_type": "display_data"
    }
   ],
   "source": [
    "y_pred = np.round(y_pred)\n",
    "from sklearn.metrics import confusion_matrix\n",
    "# Calculate the confusion matrix\n",
    "cm = confusion_matrix(y_test, y_pred)\n",
    "# Plot the confusion matrix\n",
    "plt.figure(figsize=(8, 6))\n",
    "sns.heatmap(cm, annot=True, cmap='Blues', fmt='d')\n",
    "plt.xlabel('Predicted')\n",
    "plt.ylabel('Actual')\n",
    "plt.title('Confusion Matrix')\n",
    "plt.show()"
   ]
  },
  {
   "attachments": {},
   "cell_type": "markdown",
   "metadata": {},
   "source": [
    "Calculate Accuracy"
   ]
  },
  {
   "cell_type": "code",
   "execution_count": 91,
   "metadata": {},
   "outputs": [
    {
     "name": "stdout",
     "output_type": "stream",
     "text": [
      "Testing set accuracy: 0.35479041916167664\n",
      "Trainingset accuracy: 0.3970037453183521\n"
     ]
    }
   ],
   "source": [
    "# Calculate the accuarcy\n",
    "acc = calculate_acc(y_pred, y_test)\n",
    "print(\"Testing set accuracy:\", acc)\n",
    "\n",
    "acc = calculate_acc(y_pred_train, y_train)\n",
    "print(\"Trainingset accuracy:\", acc)"
   ]
  },
  {
   "attachments": {},
   "cell_type": "markdown",
   "metadata": {},
   "source": [
    "Refit the linear regression model by feature selection and removing highly correlated features."
   ]
  },
  {
   "cell_type": "code",
   "execution_count": 92,
   "metadata": {},
   "outputs": [
    {
     "name": "stdout",
     "output_type": "stream",
     "text": [
      "Selected Features: Index(['AssignToHotkeys', 'UniqueHotkeys', 'MinimapAttacks',\n",
      "       'MinimapRightClicks', 'WorkersMade', 'ComplexUnitsMade',\n",
      "       'ComplexAbilitiesUsed'],\n",
      "      dtype='object')\n"
     ]
    }
   ],
   "source": [
    "#  Calculate the correlation matrix\n",
    "correlation_matrix = data.corr()\n",
    "\n",
    "# Set the correlation threshold\n",
    "correlation_threshold = 0.8\n",
    "\n",
    "# Identify highly correlated features\n",
    "highly_correlated_features = set()\n",
    "for i in range(len(correlation_matrix.columns)):\n",
    "    for j in range(i):\n",
    "        if abs(correlation_matrix.iloc[i, j]) > correlation_threshold:\n",
    "            feature_i = correlation_matrix.columns[i]\n",
    "            feature_j = correlation_matrix.columns[j]\n",
    "            highly_correlated_features.add(feature_i)\n",
    "            highly_correlated_features.add(feature_j)\n",
    "\n",
    "# Remove highly correlated features from the dataset\n",
    "selected_features = [col for col in data.columns if col not in highly_correlated_features]\n",
    "filtered_data = data_no_missing[selected_features]\n",
    "\n",
    "X = filtered_data.drop('LeagueIndex', axis= 1)\n",
    "y = filtered_data.LeagueIndex\n",
    "\n",
    "X_train, X_test, y_train, y_test = train_test_split(X, y, test_size=0.2, random_state=42)\n",
    "\n",
    "# Now performing feature selection\n",
    "from sklearn.feature_selection import RFE\n",
    "from sklearn.datasets import make_regression\n",
    "\n",
    "# Assuming you have your feature matrix X and target variable y\n",
    "\n",
    "# Create a linear regression object\n",
    "model = LinearRegression()\n",
    "\n",
    "# Create an RFE object with the linear regression model and desired number of features\n",
    "rfe = RFE(estimator=model)\n",
    "\n",
    "# Perform feature selection\n",
    "X_selected = rfe.fit_transform(X_train, y_train)\n",
    "\n",
    "# Get the selected feature indices\n",
    "selected_feature_indices = rfe.get_support(indices=True)\n",
    "\n",
    "# Get the selected feature names\n",
    "selected_feature_names = X.columns[selected_feature_indices]\n",
    "\n",
    "# Print the coefficients\n",
    "print(\"Selected Features:\", selected_feature_names)"
   ]
  },
  {
   "cell_type": "code",
   "execution_count": 93,
   "metadata": {},
   "outputs": [],
   "source": [
    "## refit the linear regression \n",
    "X_train_new = X_train[selected_feature_names]\n",
    "X_test_new = X_test[selected_feature_names]\n",
    "model = LinearRegression()\n",
    "model.fit(X_train_new, y_train)\n",
    "y_pred = model.predict(X_test_new)\n",
    "y_pred_train = model.predict(X_train_new)"
   ]
  },
  {
   "cell_type": "code",
   "execution_count": 94,
   "metadata": {},
   "outputs": [
    {
     "name": "stdout",
     "output_type": "stream",
     "text": [
      "In Testing set The RMSE is 1.2145 and the MAE is 0.9982.\n",
      "In Training set The RMSE is 1.1762 and the MAE is 0.9530.\n"
     ]
    }
   ],
   "source": [
    "# Calculate RMSE and MAE\n",
    "result = calculate_rmse_mae(y_test, y_pred)\n",
    "print(\"In Testing set\", result)\n",
    "result = calculate_rmse_mae(y_train, y_pred_train)\n",
    "print(\"In Training set\", result)"
   ]
  },
  {
   "attachments": {},
   "cell_type": "markdown",
   "metadata": {},
   "source": [
    "Calculate the accuracy"
   ]
  },
  {
   "cell_type": "code",
   "execution_count": 95,
   "metadata": {},
   "outputs": [
    {
     "name": "stdout",
     "output_type": "stream",
     "text": [
      "Testing set accuracy: 0.281437125748503\n",
      "Trainingset accuracy: 0.3187265917602996\n"
     ]
    }
   ],
   "source": [
    "# Calculate the accuarcy\n",
    "acc = calculate_acc(y_pred, y_test)\n",
    "print(\"Testing set accuracy:\", acc)\n",
    "\n",
    "acc = calculate_acc(y_pred_train, y_train)\n",
    "print(\"Trainingset accuracy:\", acc)"
   ]
  },
  {
   "attachments": {},
   "cell_type": "markdown",
   "metadata": {},
   "source": [
    "Linear regression does not perform well in this case, and the model after feature selection shows a worse performance, therefore, we may consider to try different models.\n",
    "Since the League rank can be considerd as different classes, we may think this question as an classification question, and we will try to use Logistic regression model. \n",
    "The nature of the League rank is ordinal, so we use ordinal logistic regression."
   ]
  },
  {
   "attachments": {},
   "cell_type": "markdown",
   "metadata": {},
   "source": [
    "### Ordinal Logistic model"
   ]
  },
  {
   "cell_type": "code",
   "execution_count": 55,
   "metadata": {},
   "outputs": [
    {
     "name": "stdout",
     "output_type": "stream",
     "text": [
      "Accuracy: 0.33682634730538924\n"
     ]
    }
   ],
   "source": [
    "# try ordinal logistic model with full data set.\n",
    "from mord import LogisticAT\n",
    "from sklearn.datasets import load_iris\n",
    "from sklearn.model_selection import train_test_split\n",
    "from sklearn.metrics import accuracy_score\n",
    "\n",
    "# Load example dataset\n",
    "X = data_no_missing.drop('LeagueIndex', axis=1)  # Specify the columns/features used for prediction\n",
    "y = data_no_missing['LeagueIndex']  # Specify the target variable\n",
    "\n",
    "X_train, X_test, y_train, y_test = train_test_split(X, y, test_size=0.2, random_state=42)\n",
    "\n",
    "\n",
    "# Fit the ordinal logistic regression model\n",
    "model = LogisticAT()\n",
    "model.fit(X_train, y_train)\n",
    "\n",
    "# Predict on the test set\n",
    "y_pred = model.predict(X_test)\n",
    "\n",
    "# Calculate accuracy\n",
    "accuracy = accuracy_score(y_test, y_pred)\n",
    "print(\"Accuracy:\", accuracy)"
   ]
  },
  {
   "attachments": {},
   "cell_type": "markdown",
   "metadata": {},
   "source": [
    "Confusion matrix"
   ]
  },
  {
   "cell_type": "code",
   "execution_count": 65,
   "metadata": {},
   "outputs": [
    {
     "data": {
      "image/png": "[encoded data removed]",
      "text/plain": [
       "<Figure size 800x600 with 2 Axes>"
      ]
     },
     "metadata": {},
     "output_type": "display_data"
    }
   ],
   "source": [
    "# Calculate the confusion matrix\n",
    "cm = confusion_matrix(y_test, y_pred)\n",
    "\n",
    "# Plot the confusion matrix\n",
    "plt.figure(figsize=(8, 6))\n",
    "sns.heatmap(cm, annot=True, cmap='Blues', fmt='d')\n",
    "plt.xlabel('Predicted')\n",
    "plt.ylabel('Actual')\n",
    "plt.title('Confusion Matrix')\n",
    "plt.show()"
   ]
  },
  {
   "cell_type": "code",
   "execution_count": 54,
   "metadata": {},
   "outputs": [
    {
     "name": "stdout",
     "output_type": "stream",
     "text": [
      "Accuracy: 0.2619760479041916\n"
     ]
    }
   ],
   "source": [
    "# try with selected features\n",
    "X = data_no_missing[selected_feature_names]\n",
    "\n",
    "X_train, X_test, y_train, y_test = train_test_split(X, y, test_size=0.2, random_state=42)\n",
    "\n",
    "\n",
    "# Fit the ordinal logistic regression model\n",
    "model = LogisticAT()\n",
    "model.fit(X_train, y_train)\n",
    "\n",
    "# Predict on the test set\n",
    "y_pred = model.predict(X_test)\n",
    "\n",
    "# Calculate accuracy\n",
    "accuracy = accuracy_score(y_test, y_pred)\n",
    "print(\"Accuracy:\", accuracy)"
   ]
  },
  {
   "attachments": {},
   "cell_type": "markdown",
   "metadata": {},
   "source": [
    "The ordinal logistic regression does not perform well, and we only have an accuarcy of 0.336 in this case. Compared with linear regression, the ordinal logistic regression has lower accuracy."
   ]
  },
  {
   "attachments": {},
   "cell_type": "markdown",
   "metadata": {},
   "source": [
    "## Random Forest model"
   ]
  },
  {
   "cell_type": "code",
   "execution_count": 112,
   "metadata": {},
   "outputs": [],
   "source": [
    "from sklearn.ensemble import RandomForestClassifier\n",
    "X = data_no_missing.drop('LeagueIndex', axis=1)  # Specify the columns/features used for prediction\n",
    "y = data_no_missing['LeagueIndex'].astype(\"category\")  # Specify the target variable\n",
    "X_train, X_test, y_train, y_test = train_test_split(X, y, test_size=0.2, random_state=42)"
   ]
  },
  {
   "cell_type": "code",
   "execution_count": 113,
   "metadata": {},
   "outputs": [
    {
     "name": "stdout",
     "output_type": "stream",
     "text": [
      "Testing accuracy: 0.41317365269461076\n",
      "Training accuracy: 1.0\n"
     ]
    }
   ],
   "source": [
    "model = RandomForestClassifier()\n",
    "model.fit(X_train, y_train)\n",
    "# Predict on the test set\n",
    "y_pred = model.predict(X_test)\n",
    "\n",
    "# Calculate Testing accuracy\n",
    "accuracy = accuracy_score(y_test, y_pred)\n",
    "print(\"Testing accuracy:\", accuracy)\n",
    "\n",
    "# Calculate Training accuracy\n",
    "y_pred = model.predict(X_train)\n",
    "accuracy = accuracy_score(y_train, y_pred)\n",
    "print(\"Training accuracy:\", accuracy)"
   ]
  },
  {
   "attachments": {},
   "cell_type": "markdown",
   "metadata": {},
   "source": [
    "We have a better result in randomforest with testing accuracy of 0.417, but we are facing huge problem of overfitting, where the training accuracy is 1. But we will try to tune hyperparameter to improve the model anyway."
   ]
  },
  {
   "attachments": {},
   "cell_type": "markdown",
   "metadata": {},
   "source": [
    "Hyperparameter tunning"
   ]
  },
  {
   "cell_type": "code",
   "execution_count": 114,
   "metadata": {},
   "outputs": [
    {
     "name": "stdout",
     "output_type": "stream",
     "text": [
      "Best Parameters: {'max_depth': 10, 'min_samples_leaf': 2, 'min_samples_split': 10, 'n_estimators': 100}\n",
      "Best Score: 0.41385767790262173\n"
     ]
    }
   ],
   "source": [
    "from sklearn.model_selection import GridSearchCV\n",
    "# Define parameter grid for grid search\n",
    "param_grid = {\n",
    "    'n_estimators': [50, 100, 200],\n",
    "    'max_depth': [None, 5, 10],\n",
    "    'min_samples_split': [2, 5, 10],\n",
    "    'min_samples_leaf': [1, 2, 4]\n",
    "}\n",
    "\n",
    "# Create Random Forest classifier\n",
    "rf_model = RandomForestClassifier()\n",
    "\n",
    "# Perform grid search\n",
    "grid_search = GridSearchCV(rf_model, param_grid, cv=5, n_jobs=-1)\n",
    "grid_search.fit(X_train, y_train)\n",
    "\n",
    "# Print best parameters and best score\n",
    "print(\"Best Parameters:\", grid_search.best_params_)\n",
    "print(\"Best Score:\", grid_search.best_score_)"
   ]
  },
  {
   "attachments": {},
   "cell_type": "markdown",
   "metadata": {},
   "source": [
    "Refit random forest with best parameters"
   ]
  },
  {
   "cell_type": "code",
   "execution_count": 213,
   "metadata": {},
   "outputs": [
    {
     "name": "stdout",
     "output_type": "stream",
     "text": [
      "Testing Accuracy: 0.39911634756995584\n",
      "Training Accuracy: 1.0\n"
     ]
    }
   ],
   "source": [
    "# Get the best estimator\n",
    "best_rf_model = grid_search.best_estimator_\n",
    "\n",
    "# Refit the best estimator on the entire dataset\n",
    "best_rf_model.fit(X_train, y_train)\n",
    "\n",
    "# Make predictions on the same dataset\n",
    "y_pred = best_rf_model.predict(X_test)\n",
    "\n",
    "# Calculate accuracy\n",
    "accuracy = accuracy_score(y_test, y_pred)\n",
    "print(\"Testing Accuracy:\", accuracy)\n",
    "\n",
    "\n",
    "# Make predictions on the same dataset\n",
    "y_pred = best_rf_model.predict(X_train)\n",
    "\n",
    "# Calculate accuracy\n",
    "accuracy = accuracy_score(y_train, y_train)\n",
    "print(\"Training Accuracy:\", accuracy)"
   ]
  },
  {
   "attachments": {},
   "cell_type": "markdown",
   "metadata": {},
   "source": [
    "After tunning the parameter, the randomforest model has testing accuracy of 0.416, but we still have overfitting problem."
   ]
  },
  {
   "cell_type": "code",
   "execution_count": 217,
   "metadata": {},
   "outputs": [
    {
     "data": {
      "image/png": "[encoded data removed]",
      "text/plain": [
       "<Figure size 1000x600 with 1 Axes>"
      ]
     },
     "metadata": {},
     "output_type": "display_data"
    }
   ],
   "source": [
    "# Get feature importances\n",
    "importances = best_rf_model.feature_importances_\n",
    "\n",
    "# Get feature names\n",
    "feature_names = X_train.columns\n",
    "\n",
    "# Sort feature importances in descending order\n",
    "indices = np.argsort(importances)[::-1]\n",
    "\n",
    "# Reverse the order of indices\n",
    "indices = indices[::-1]\n",
    "\n",
    "# Plot feature importances\n",
    "plt.figure(figsize=(10, 6))\n",
    "plt.barh(range(len(importances)), importances[indices])\n",
    "plt.yticks(range(len(importances)), feature_names[indices])\n",
    "plt.xlabel('Importance')\n",
    "plt.ylabel('Feature')\n",
    "plt.title('Random Forest Feature Importance')\n",
    "plt.tight_layout()\n",
    "plt.show()"
   ]
  },
  {
   "attachments": {},
   "cell_type": "markdown",
   "metadata": {},
   "source": [
    "Based on the random forest model, ActionLatency and APM are two most important features."
   ]
  },
  {
   "attachments": {},
   "cell_type": "markdown",
   "metadata": {},
   "source": [
    "## XG Boost and Light GBM"
   ]
  },
  {
   "attachments": {},
   "cell_type": "markdown",
   "metadata": {},
   "source": [
    "XG Boost and LightGBM can handel the missing values, therefore, we use the original data"
   ]
  },
  {
   "cell_type": "code",
   "execution_count": 173,
   "metadata": {},
   "outputs": [],
   "source": [
    "data.LeagueIndex = data.LeagueIndex.astype(\"category\")\n",
    "data[columns_to_process] = data[columns_to_process].fillna(-1).astype(int)"
   ]
  },
  {
   "cell_type": "code",
   "execution_count": 174,
   "metadata": {},
   "outputs": [
    {
     "data": {
      "text/plain": [
       "GameID                     int64\n",
       "LeagueIndex             category\n",
       "Age                        int32\n",
       "HoursPerWeek               int32\n",
       "TotalHours                 int32\n",
       "APM                      float64\n",
       "SelectByHotkeys          float64\n",
       "AssignToHotkeys          float64\n",
       "UniqueHotkeys              int64\n",
       "MinimapAttacks           float64\n",
       "MinimapRightClicks       float64\n",
       "NumberOfPACs             float64\n",
       "GapBetweenPACs           float64\n",
       "ActionLatency            float64\n",
       "ActionsInPAC             float64\n",
       "TotalMapExplored           int64\n",
       "WorkersMade              float64\n",
       "UniqueUnitsMade            int64\n",
       "ComplexUnitsMade         float64\n",
       "ComplexAbilitiesUsed     float64\n",
       "dtype: object"
      ]
     },
     "execution_count": 174,
     "metadata": {},
     "output_type": "execute_result"
    }
   ],
   "source": [
    "data.dtypes"
   ]
  },
  {
   "cell_type": "code",
   "execution_count": 198,
   "metadata": {},
   "outputs": [
    {
     "name": "stdout",
     "output_type": "stream",
     "text": [
      "LeagueIndex unique values: [4 3 2 1 0 6 5 7]\n"
     ]
    }
   ],
   "source": [
    "import xgboost as xgb\n",
    "from sklearn.preprocessing import LabelEncoder\n",
    "label_encoder = LabelEncoder()\n",
    "\n",
    "data.LeagueIndex = label_encoder.fit_transform(data.LeagueIndex)\n",
    "\n",
    "X = data.drop('LeagueIndex', axis=1)  # Specify the columns/features used for prediction\n",
    "y = data['LeagueIndex']  # Specify the target variable\n",
    "\n",
    "unique_values = data.LeagueIndex.unique()\n",
    "print(\"LeagueIndex unique values:\", unique_values)\n",
    "\n",
    "\n",
    "\n",
    "X_train, X_test, y_train, y_test = train_test_split(X, y, test_size=0.2, random_state=42)"
   ]
  },
  {
   "cell_type": "code",
   "execution_count": 196,
   "metadata": {},
   "outputs": [
    {
     "data": {
      "text/plain": [
       "8"
      ]
     },
     "execution_count": 196,
     "metadata": {},
     "output_type": "execute_result"
    }
   ],
   "source": [
    "len(unique_values)"
   ]
  },
  {
   "cell_type": "code",
   "execution_count": 197,
   "metadata": {},
   "outputs": [
    {
     "name": "stdout",
     "output_type": "stream",
     "text": [
      "Accuracy: 0.34609720176730485\n"
     ]
    }
   ],
   "source": [
    "# Create DMatrix for training and test data\n",
    "dtrain = xgb.DMatrix(X_train, label=y_train, enable_categorical= True, missing= -1)\n",
    "dtest = xgb.DMatrix(X_test, label=y_test, enable_categorical= True, missing= -1)\n",
    "\n",
    "# Define parameters for XGBoost classifier\n",
    "params = {\n",
    "    'eta': 0.03,\n",
    "    'objective': 'multi:softmax',\n",
    "    'num_class': len(unique_values),\n",
    "    'eval_metric': 'merror',\n",
    "    \n",
    "}\n",
    "\n",
    "# Train the XGBoost classifier\n",
    "xgb_model = xgb.train(params, dtrain)\n",
    "\n",
    "# Make predictions on the test data\n",
    "y_pred = xgb_model.predict(dtest)\n",
    "\n",
    "# Convert predicted labels to integers\n",
    "y_pred = y_pred.astype(int)\n",
    "\n",
    "# Calculate accuracy\n",
    "accuracy = accuracy_score(y_test, y_pred)\n",
    "print(\"Accuracy:\", accuracy)"
   ]
  },
  {
   "attachments": {},
   "cell_type": "markdown",
   "metadata": {},
   "source": [
    "Now, try to tune the hyperparameter for XGboost"
   ]
  },
  {
   "cell_type": "code",
   "execution_count": 205,
   "metadata": {},
   "outputs": [
    {
     "name": "stdout",
     "output_type": "stream",
     "text": [
      "Best Parameters: {'learning_rate': 0.1, 'max_depth': 3, 'n_estimators': 200}\n"
     ]
    }
   ],
   "source": [
    "from sklearn.model_selection import GridSearchCV\n",
    "\n",
    "# Assuming 'X' is the feature matrix and 'y' is the target variable\n",
    "params = {\n",
    "    'max_depth': [3, 5, 7],\n",
    "    'learning_rate': [0.1, 0.01, 0.001],\n",
    "    'n_estimators': [100, 200, 300],\n",
    "    # Add more parameters to be tuned\n",
    "}\n",
    "\n",
    "xgb_model = xgb.XGBClassifier()\n",
    "\n",
    "grid_search = GridSearchCV(xgb_model, param_grid=params, cv=5)\n",
    "grid_search.fit(X_train, y_train)\n",
    "\n",
    "# Print the best parameters and best score\n",
    "print(\"Best Parameters:\", grid_search.best_params_)"
   ]
  },
  {
   "attachments": {},
   "cell_type": "markdown",
   "metadata": {},
   "source": [
    "Refit the model with tunned parameter"
   ]
  },
  {
   "cell_type": "code",
   "execution_count": 206,
   "metadata": {},
   "outputs": [
    {
     "name": "stdout",
     "output_type": "stream",
     "text": [
      "Testing accuracy: 0.39911634756995584\n",
      "Training accuracy: 0.7919734904270986\n"
     ]
    }
   ],
   "source": [
    "# Refit the model with the best parameters\n",
    "best_xgb_model = xgb.XGBClassifier(**grid_search.best_params_)\n",
    "best_xgb_model.fit(X_train, y_train)\n",
    "# Make predictions on the test data using the refitted model\n",
    "y_pred = best_xgb_model.predict(X_test)\n",
    "\n",
    "# Calculate the accuracy score\n",
    "accuracy = accuracy_score(y_test, y_pred)\n",
    "print(\"Testing accuracy:\", accuracy)\n",
    "\n",
    "# Make predictions on the test data using the refitted model\n",
    "y_pred = best_xgb_model.predict(X_train)\n",
    "\n",
    "# Calculate the accuracy score\n",
    "accuracy = accuracy_score(y_train, y_pred)\n",
    "print(\"Training accuracy:\", accuracy)"
   ]
  },
  {
   "attachments": {},
   "cell_type": "markdown",
   "metadata": {},
   "source": [
    "We have the XGboost model with testing accuracy of 0.399. There exist a overfitting problem since the training accuracy is much higher."
   ]
  },
  {
   "attachments": {},
   "cell_type": "markdown",
   "metadata": {},
   "source": [
    "Draw feature importance plot "
   ]
  },
  {
   "cell_type": "code",
   "execution_count": 207,
   "metadata": {},
   "outputs": [
    {
     "data": {
      "image/png": "[encoded data removed]",
      "text/plain": [
       "<Figure size 640x480 with 1 Axes>"
      ]
     },
     "metadata": {},
     "output_type": "display_data"
    }
   ],
   "source": [
    "xgb.plot_importance(best_xgb_model)\n",
    "plt.show()"
   ]
  },
  {
   "attachments": {},
   "cell_type": "markdown",
   "metadata": {},
   "source": [
    "Based on the feature importance plot, TotalHours is the most important feature. GameID should be independent from the LeagueIndex, but it is the important in XGboost model."
   ]
  },
  {
   "attachments": {},
   "cell_type": "markdown",
   "metadata": {},
   "source": [
    "## Summary"
   ]
  },
  {
   "attachments": {},
   "cell_type": "markdown",
   "metadata": {},
   "source": [
    "The XGboost and Random forest model have best performance. They have testing accuracy around 0.4. Linear models include linear regression and Logistic model can not predict the LeagueIndex well.\n",
    "Both Random Forest and XGboost have overfitting problem.  \n",
    "\\\n",
    "We may consider to use either Random Forest or XGboot in this case, but random forest can be trained and tuned in parallel, and XGboost is more time consuming. We have a relative small data set, thus random forest can handel it well. If a bigger data set is given, we may prefer the XGboost model.\n",
    "\\\n",
    "\\\n",
    "The XGboost also has ability to handel missing values, therefore, if the future data contain more missing values, we may prefer XGboost."
   ]
  },
  {
   "attachments": {},
   "cell_type": "markdown",
   "metadata": {},
   "source": [
    "## Communicate findings to non-technical stakeholder."
   ]
  },
  {
   "attachments": {},
   "cell_type": "markdown",
   "metadata": {},
   "source": [
    "First, most of players has LeagueIndex betwen 2 to 5. We have smaller propotion of high rank players( LeagueIndex > 5).\n",
    "\n",
    "Then move to the model part.\n",
    "Given the data set, we are able to predict with accuracy of 40%. Based on our machine learning models, some important features are listed which may be helpul. \n",
    "\n",
    "Action per minute, Mean latency from the onset of a PACs to their first action in milliseconds(ActionLatency), Total hours are important features to predict player's rank. \n",
    "\\\n",
    "We may consider to use Machine learning models(XGboost or Rnadom Forest) to predict player's rank due to the better performance. \n",
    "\n",
    "We may be able to generate a better prediction result by having larger data set in future, and we may also try some other methods(svm, neural nets) in future."
   ]
  },
  {
   "attachments": {},
   "cell_type": "markdown",
   "metadata": {},
   "source": [
    "## Hypothetical: \n",
    "after seeing your work, your stakeholders come to you and say that they\n",
    "can collect more data, but want your guidance before starting. How would you advise\n",
    "them based on your EDA and model results?"
   ]
  },
  {
   "attachments": {},
   "cell_type": "markdown",
   "metadata": {},
   "source": [
    "Based on the current data, we have some missing values in Age, TotalHours, and HoursPerWeek. Try to aviod missing values if possible, and this should be able to help training a better model.\n",
    "\\\n",
    "\\\n",
    "Consider the quality and reliability of the additional data that can be collected. Ensure that the data collection process adheres to proper protocols and standards to minimize errors and biases.\n",
    "\\\n",
    "\\\n",
    "Focus on high-impact variables: Prioritize the collection of data for variables that have demonstrated high importance with the LeagueIndex(APC, ActionLatency, and TotalHours).\n",
    "\\\n",
    "\\\n",
    "Consider diversity in data: Our data is not balanced now due to the lack of high rank players, we should collect data from a more diverse range of sources or target specific segments of the population to ensure a representative dataset. \n",
    "\\\n",
    "However, the lack of high rank player may reflect the true nature of the population data distribution, thus we should try to collect more data to observe the distribution again and double check on higher rank player's distribution.\n",
    "\\\n",
    "\\\n",
    "Incremental data collection: If feasible, collect additional data incrementally and iteratively. This approach allows for continuous model improvement and evaluation"
   ]
  }
 ],
 "metadata": {
  "kernelspec": {
   "display_name": "Python 3",
   "language": "python",
   "name": "python3"
  },
  "language_info": {
   "codemirror_mode": {
    "name": "ipython",
    "version": 3
   },
   "file_extension": ".py",
   "mimetype": "text/x-python",
   "name": "python",
   "nbconvert_exporter": "python",
   "pygments_lexer": "ipython3",
   "version": "3.10.11"
  },
  "orig_nbformat": 4
 },
 "nbformat": 4,
 "nbformat_minor": 2
}
